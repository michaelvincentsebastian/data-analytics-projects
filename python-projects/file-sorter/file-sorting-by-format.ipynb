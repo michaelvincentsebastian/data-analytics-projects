{
 "cells": [
  {
   "cell_type": "markdown",
   "id": "db244f30-0ced-4bf3-8db5-c01d6870d5dd",
   "metadata": {},
   "source": [
    "Image File Sorting by its Format"
   ]
  },
  {
   "cell_type": "markdown",
   "id": "3ed63e6a",
   "metadata": {},
   "source": [
    "1. import os and shutil"
   ]
  },
  {
   "cell_type": "code",
   "execution_count": 1,
   "id": "41be0e5f-7ea6-4245-9dbe-852595f5db62",
   "metadata": {},
   "outputs": [],
   "source": [
    "import os, shutil"
   ]
  },
  {
   "cell_type": "markdown",
   "id": "b2788f2f",
   "metadata": {},
   "source": [
    "2. setup path"
   ]
  },
  {
   "cell_type": "code",
   "execution_count": 2,
   "id": "ac81121d-b33c-494c-b75a-f3ca0a4eed3e",
   "metadata": {},
   "outputs": [],
   "source": [
    "myPath = r\"C:/Users/Asus/Downloads/Car/\""
   ]
  },
  {
   "cell_type": "markdown",
   "id": "82fd1577",
   "metadata": {},
   "source": [
    "3. checking path"
   ]
  },
  {
   "cell_type": "code",
   "execution_count": 3,
   "id": "5520ca91-51df-40d7-b7e0-e9ba656f431b",
   "metadata": {},
   "outputs": [
    {
     "name": "stdout",
     "output_type": "stream",
     "text": [
      "['bmw.jpeg', 'ferrari.jpeg', 'mclaren.jpeg', 'mercedes.jpeg', 'porsche.jpg']\n"
     ]
    }
   ],
   "source": [
    "file_name = os.listdir(myPath)\n",
    "print(file_name)"
   ]
  },
  {
   "cell_type": "markdown",
   "id": "5cac4fbf",
   "metadata": {},
   "source": [
    "4. making directions/folder if its doesn't exists"
   ]
  },
  {
   "cell_type": "code",
   "execution_count": null,
   "id": "28a312ba-5e38-4692-949a-75acec63f2eb",
   "metadata": {},
   "outputs": [
    {
     "name": "stdout",
     "output_type": "stream",
     "text": [
      "C:/Users/Asus/Downloads/Car/jpeg\n",
      "C:/Users/Asus/Downloads/Car/jpg\n"
     ]
    }
   ],
   "source": [
    "file_types = ['jpeg', 'jpg']\n",
    "\n",
    "for i in range(0, 2):\n",
    "    if not os.path.exists(myPath + file_types[i]):  # if the path (myPath + folder name) doesn't exist in the directory\n",
    "        print(myPath + file_types[i])               # display the folder path that we're about to create\n",
    "        os.makedirs((myPath + file_types[i]))       # create the directory/folder made up of \"myPath\" and the file type"
   ]
  },
  {
   "cell_type": "markdown",
   "id": "a03fd54f",
   "metadata": {},
   "source": [
    "5. move the file into the folder"
   ]
  },
  {
   "cell_type": "code",
   "execution_count": null,
   "id": "3096ec2a-f41f-4832-9ccb-73e804eada14",
   "metadata": {},
   "outputs": [],
   "source": [
    "for i in file_name:\n",
    "\n",
    "    # if the file has a '.jpeg' format and does not already exist at the path (myPath + \"jpeg/\" + i),\n",
    "    # then move the '.jpeg' file into the \"jpeg\" folder\n",
    "\n",
    "    if \".jpeg\" in i and not os.path.exists(myPath + \"jpeg/\" + i):\n",
    "        shutil.move(myPath + i, myPath + \"jpeg/\" + i)\n",
    "\n",
    "    # if the file has a '.jpg' format and does not already exist at the path (myPath + \"jpg/\" + i),\n",
    "    # then move the '.jpg' file into the \"jpg\" folder\n",
    "\n",
    "    elif \".jpg\" in i and not os.path.exists(myPath + \"jpg/\" + i):\n",
    "        shutil.move(myPath + i, myPath + \"jpg/\" + i)"
   ]
  }
 ],
 "metadata": {
  "kernelspec": {
   "display_name": "Python [conda env:base] *",
   "language": "python",
   "name": "conda-base-py"
  },
  "language_info": {
   "codemirror_mode": {
    "name": "ipython",
    "version": 3
   },
   "file_extension": ".py",
   "mimetype": "text/x-python",
   "name": "python",
   "nbconvert_exporter": "python",
   "pygments_lexer": "ipython3",
   "version": "3.13.5"
  }
 },
 "nbformat": 4,
 "nbformat_minor": 5
}
